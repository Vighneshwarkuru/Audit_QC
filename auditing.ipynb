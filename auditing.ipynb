{
 "cells": [
  {
   "cell_type": "code",
   "execution_count": null,
   "id": "262d7bbb",
   "metadata": {},
   "outputs": [
    {
     "ename": "ModuleNotFoundError",
     "evalue": "No module named 'fairlearn'",
     "output_type": "error",
     "traceback": [
      "\u001b[0;31m---------------------------------------------------------------------------\u001b[0m",
      "\u001b[0;31mModuleNotFoundError\u001b[0m                       Traceback (most recent call last)",
      "Cell \u001b[0;32mIn[5], line 3\u001b[0m\n\u001b[1;32m      1\u001b[0m \u001b[38;5;28;01mimport\u001b[39;00m \u001b[38;5;21;01mpandas\u001b[39;00m \u001b[38;5;28;01mas\u001b[39;00m \u001b[38;5;21;01mpd\u001b[39;00m\n\u001b[1;32m      2\u001b[0m \u001b[38;5;28;01mimport\u001b[39;00m \u001b[38;5;21;01mjoblib\u001b[39;00m\n\u001b[0;32m----> 3\u001b[0m \u001b[38;5;28;01mfrom\u001b[39;00m \u001b[38;5;21;01mfairlearn\u001b[39;00m\u001b[38;5;21;01m.\u001b[39;00m\u001b[38;5;21;01mmetrics\u001b[39;00m \u001b[38;5;28;01mimport\u001b[39;00m MetricFrame, selection_rate, demographic_parity_difference, equalized_odds_difference\n\u001b[1;32m      5\u001b[0m \u001b[38;5;66;03m# 1. Load data & model\u001b[39;00m\n\u001b[1;32m      6\u001b[0m df \u001b[38;5;241m=\u001b[39m pd\u001b[38;5;241m.\u001b[39mread_csv(\u001b[38;5;124m\"\u001b[39m\u001b[38;5;124myour_dataset.csv\u001b[39m\u001b[38;5;124m\"\u001b[39m)\n",
      "\u001b[0;31mModuleNotFoundError\u001b[0m: No module named 'fairlearn'"
     ]
    }
   ],
   "source": [
    "import pandas as pd\n",
    "import joblib\n",
    "from fairlearn.metrics import MetricFrame, selection_rate, demographic_parity_difference, equalized_odds_difference\n",
    "\n",
    "# 1. Load data & model\n",
    "df = pd.read_csv(\"recruitment_data.csv\")\n",
    "X = df.drop(columns=[\"HiringDecision\"])\n",
    "y_true = df[\"HiringDecision\"]\n",
    "\n",
    "model = joblib.load(\"your_model.pkl\")\n",
    "y_pred = model.predict(X)\n",
    "\n",
    "# 2. Fairness metrics\n",
    "metric_frame = MetricFrame(\n",
    "    metrics={\n",
    "        \"selection_rate\": selection_rate,\n",
    "        \"demographic_parity_diff\": demographic_parity_difference,\n",
    "        \"equalized_odds_diff\": equalized_odds_difference,\n",
    "    },\n",
    "    y_true=y_true,\n",
    "    y_pred=y_pred,\n",
    "    sensitive_features=df[\"Gender\"]  # <- protected attribute\n",
    ")\n",
    "\n",
    "print(metric_frame.by_group)\n",
    "print(\"Overall metrics:\", metric_frame.overall)\n"
   ]
  },
  {
   "cell_type": "code",
   "execution_count": null,
   "id": "95521ee0",
   "metadata": {},
   "outputs": [],
   "source": []
  }
 ],
 "metadata": {
  "kernelspec": {
   "display_name": "base",
   "language": "python",
   "name": "python3"
  },
  "language_info": {
   "codemirror_mode": {
    "name": "ipython",
    "version": 3
   },
   "file_extension": ".py",
   "mimetype": "text/x-python",
   "name": "python",
   "nbconvert_exporter": "python",
   "pygments_lexer": "ipython3",
   "version": "3.12.7"
  }
 },
 "nbformat": 4,
 "nbformat_minor": 5
}
